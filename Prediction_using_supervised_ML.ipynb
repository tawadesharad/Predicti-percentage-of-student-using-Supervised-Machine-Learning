{
  "nbformat": 4,
  "nbformat_minor": 0,
  "metadata": {
    "colab": {
      "name": "Prediction using supervised ML.ipynb",
      "provenance": [],
      "collapsed_sections": [],
      "authorship_tag": "ABX9TyOdi9A1rfE8W2XXjHLA+5ig",
      "include_colab_link": true
    },
    "kernelspec": {
      "name": "python3",
      "display_name": "Python 3"
    },
    "language_info": {
      "name": "python"
    }
  },
  "cells": [
    {
      "cell_type": "markdown",
      "metadata": {
        "id": "view-in-github",
        "colab_type": "text"
      },
      "source": [
        "<a href=\"https://colab.research.google.com/github/tawadesharad/Predicti-percentage-of-student-using-Supervised-Machine-Learning/blob/main/Prediction_using_supervised_ML.ipynb\" target=\"_parent\"><img src=\"https://colab.research.google.com/assets/colab-badge.svg\" alt=\"Open In Colab\"/></a>"
      ]
    },
    {
      "cell_type": "markdown",
      "metadata": {
        "id": "Q5mCtBL_zHU5"
      },
      "source": [
        "#**SPARK FOUNDATION**\n",
        "**DATA SCIENCE AND BUSINESS ANALYTICS INTERNSHIP**\n",
        "\n",
        "\n"
      ]
    },
    {
      "cell_type": "markdown",
      "metadata": {
        "id": "F4YitCCK0-ru"
      },
      "source": [
        "**Linear Regression with python Scikit Learn- Prediction using supervised \n",
        "machine learning.**"
      ]
    },
    {
      "cell_type": "markdown",
      "metadata": {
        "id": "MmzLNHiv18Vj"
      },
      "source": [
        "**Name- SHARAD SHANTARAM TAWADE**"
      ]
    },
    {
      "cell_type": "markdown",
      "metadata": {
        "id": "EXMYteIE20ye"
      },
      "source": [
        "**Task-1 :- Predict the percentage of an student based on the numbers of study hours.**"
      ]
    },
    {
      "cell_type": "markdown",
      "metadata": {
        "id": "xckImSEo3wPt"
      },
      "source": [
        "#**Importing relevant libraries**"
      ]
    },
    {
      "cell_type": "code",
      "metadata": {
        "id": "bvS8LvU042l9"
      },
      "source": [
        "# Importing all the required libraries\n",
        "import pandas as pd\n",
        "import numpy as np\n",
        "import matplotlib.pyplot as plt\n",
        "%matplotlib inline \n",
        "import seaborn as sns\n",
        "from sklearn.linear_model import LinearRegression\n",
        "from sklearn.model_selection import train_test_split\n"
      ],
      "execution_count": 1,
      "outputs": []
    },
    {
      "cell_type": "code",
      "metadata": {
        "colab": {
          "base_uri": "https://localhost:8080/",
          "height": 203
        },
        "id": "2erAsuKI70yf",
        "outputId": "4bd278c6-ddd5-4814-d6ea-5ec55a7672e7"
      },
      "source": [
        "# Reading the dataset\n",
        "df = pd.read_csv('https://raw.githubusercontent.com/AdiPersonalWorks/Random/master/student_scores%20-%20student_scores.csv')\n",
        "df.head()"
      ],
      "execution_count": 2,
      "outputs": [
        {
          "output_type": "execute_result",
          "data": {
            "text/html": [
              "<div>\n",
              "<style scoped>\n",
              "    .dataframe tbody tr th:only-of-type {\n",
              "        vertical-align: middle;\n",
              "    }\n",
              "\n",
              "    .dataframe tbody tr th {\n",
              "        vertical-align: top;\n",
              "    }\n",
              "\n",
              "    .dataframe thead th {\n",
              "        text-align: right;\n",
              "    }\n",
              "</style>\n",
              "<table border=\"1\" class=\"dataframe\">\n",
              "  <thead>\n",
              "    <tr style=\"text-align: right;\">\n",
              "      <th></th>\n",
              "      <th>Hours</th>\n",
              "      <th>Scores</th>\n",
              "    </tr>\n",
              "  </thead>\n",
              "  <tbody>\n",
              "    <tr>\n",
              "      <th>0</th>\n",
              "      <td>2.5</td>\n",
              "      <td>21</td>\n",
              "    </tr>\n",
              "    <tr>\n",
              "      <th>1</th>\n",
              "      <td>5.1</td>\n",
              "      <td>47</td>\n",
              "    </tr>\n",
              "    <tr>\n",
              "      <th>2</th>\n",
              "      <td>3.2</td>\n",
              "      <td>27</td>\n",
              "    </tr>\n",
              "    <tr>\n",
              "      <th>3</th>\n",
              "      <td>8.5</td>\n",
              "      <td>75</td>\n",
              "    </tr>\n",
              "    <tr>\n",
              "      <th>4</th>\n",
              "      <td>3.5</td>\n",
              "      <td>30</td>\n",
              "    </tr>\n",
              "  </tbody>\n",
              "</table>\n",
              "</div>"
            ],
            "text/plain": [
              "   Hours  Scores\n",
              "0    2.5      21\n",
              "1    5.1      47\n",
              "2    3.2      27\n",
              "3    8.5      75\n",
              "4    3.5      30"
            ]
          },
          "metadata": {},
          "execution_count": 2
        }
      ]
    },
    {
      "cell_type": "code",
      "metadata": {
        "colab": {
          "base_uri": "https://localhost:8080/"
        },
        "id": "zZZywcKs8cRI",
        "outputId": "79da7a39-491e-4e09-80b4-a6f73c541d00"
      },
      "source": [
        "# Checking null values\n",
        "df.isnull== True"
      ],
      "execution_count": 3,
      "outputs": [
        {
          "output_type": "execute_result",
          "data": {
            "text/plain": [
              "False"
            ]
          },
          "metadata": {},
          "execution_count": 3
        }
      ]
    },
    {
      "cell_type": "markdown",
      "metadata": {
        "id": "0NbS8NFY88qN"
      },
      "source": [
        "**From the above it is clear that there is no null values in the dataset.**"
      ]
    },
    {
      "cell_type": "markdown",
      "metadata": {
        "id": "XXjdZCQtafMX"
      },
      "source": [
        "#**Visualization of data**"
      ]
    },
    {
      "cell_type": "code",
      "metadata": {
        "id": "DPwefY6M8yCq",
        "colab": {
          "base_uri": "https://localhost:8080/",
          "height": 303
        },
        "outputId": "2b934865-5cba-4baa-f134-53e714140443"
      },
      "source": [
        "sns.set_style('darkgrid')\n",
        "sns.scatterplot(y= df['Scores'], x= df['Hours'])\n",
        "plt.title('Marks Vs Study Hours',size=20,weight='bold',color=sns.cubehelix_palette(8, start=.5, rot=-.75)[-3])\n",
        "plt.ylabel('Marks Percentage', size=12,weight='bold')\n",
        "plt.xlabel('Hours Studied', size=12,weight='bold')\n",
        "plt.show()"
      ],
      "execution_count": 8,
      "outputs": [
        {
          "output_type": "display_data",
          "data": {
            "image/png": "[encoded data removed]",
            "text/plain": [
              "<Figure size 432x288 with 1 Axes>"
            ]
          },
          "metadata": {}
        }
      ]
    },
    {
      "cell_type": "markdown",
      "metadata": {
        "id": "NPqtNTiMbiWe"
      },
      "source": [
        "**From the above scatter plot it is clearly shown that there is co-relation between \"Hours Studied\" and \"Marks Percentages\". Now, draw the best fit line to confirm the relation**"
      ]
    },
    {
      "cell_type": "code",
      "metadata": {
        "colab": {
          "base_uri": "https://localhost:8080/",
          "height": 354
        },
        "id": "wKzAaSUQatgh",
        "outputId": "52f7119b-c65b-4f6b-f9c2-083d98fd844d"
      },
      "source": [
        "sns.set_style('darkgrid')\n",
        "sns.regplot(y= df['Scores'], x= df['Hours'])\n",
        "plt.title('Regression Plot',size=20,weight='bold',color=sns.cubehelix_palette(8, start=.5, rot=-.75)[-3])\n",
        "plt.ylabel('Marks Percentage', size=12,weight='bold')\n",
        "plt.xlabel('Hours Studied', size=12,weight='bold')\n",
        "plt.show()\n",
        "print(df.corr())"
      ],
      "execution_count": 12,
      "outputs": [
        {
          "output_type": "display_data",
          "data": {
            "image/png": "[encoded data removed]",
            "text/plain": [
              "<Figure size 432x288 with 1 Axes>"
            ]
          },
          "metadata": {}
        },
        {
          "output_type": "stream",
          "name": "stdout",
          "text": [
            "           Hours    Scores\n",
            "Hours   1.000000  0.976191\n",
            "Scores  0.976191  1.000000\n"
          ]
        }
      ]
    },
    {
      "cell_type": "markdown",
      "metadata": {
        "id": "2gQn1SuCdpQB"
      },
      "source": [
        "**From the co-relation it is shown that variables are positively correlated.**"
      ]
    },
    {
      "cell_type": "markdown",
      "metadata": {
        "id": "B0sT1RXFeGDx"
      },
      "source": [
        "#**Training the model**"
      ]
    },
    {
      "cell_type": "markdown",
      "metadata": {
        "id": "_sLlOp4gekui"
      },
      "source": [
        "**1. Splitting the DATA**"
      ]
    },
    {
      "cell_type": "code",
      "metadata": {
        "id": "Bk71pFtrcN9q"
      },
      "source": [
        "# Defining X and y values from the Data\n",
        "X = df.iloc[:, :-1].values  \n",
        "y = df.iloc[:, 1].values\n",
        "\n",
        "# Spliting the Data in two\n",
        "train_X, val_X, train_y, val_y = train_test_split(X, y, random_state = 0)"
      ],
      "execution_count": 14,
      "outputs": []
    },
    {
      "cell_type": "markdown",
      "metadata": {
        "id": "v65kNm_nftsl"
      },
      "source": [
        "**2. Fitting the data into the model.**"
      ]
    },
    {
      "cell_type": "code",
      "metadata": {
        "colab": {
          "base_uri": "https://localhost:8080/"
        },
        "id": "71Ua9EF7e5XS",
        "outputId": "0e4485f6-7fde-4325-9af3-7686d89811c3"
      },
      "source": [
        "regression = LinearRegression()\n",
        "regression.fit(train_X, train_y)\n",
        "print(\"*******Yeah!!! Our Model is Trained*******\")"
      ],
      "execution_count": 17,
      "outputs": [
        {
          "output_type": "stream",
          "name": "stdout",
          "text": [
            "*******Yeah!!! Our Model is Trained*******\n"
          ]
        }
      ]
    },
    {
      "cell_type": "markdown",
      "metadata": {
        "id": "UCKNq20ogYZx"
      },
      "source": [
        "**3. Prediction of percentage of marks**"
      ]
    },
    {
      "cell_type": "code",
      "metadata": {
        "colab": {
          "base_uri": "https://localhost:8080/",
          "height": 265
        },
        "id": "nK6cf4dde_RQ",
        "outputId": "9651390a-40b9-4fc9-d3ee-9fc086d278c1"
      },
      "source": [
        "pred_y = regression.predict(val_X)\n",
        "prediction = pd.DataFrame({'Hours': [i[0] for i in val_X], 'Predicted Marks': [k for k in pred_y]})\n",
        "prediction"
      ],
      "execution_count": 18,
      "outputs": [
        {
          "output_type": "execute_result",
          "data": {
            "text/html": [
              "<div>\n",
              "<style scoped>\n",
              "    .dataframe tbody tr th:only-of-type {\n",
              "        vertical-align: middle;\n",
              "    }\n",
              "\n",
              "    .dataframe tbody tr th {\n",
              "        vertical-align: top;\n",
              "    }\n",
              "\n",
              "    .dataframe thead th {\n",
              "        text-align: right;\n",
              "    }\n",
              "</style>\n",
              "<table border=\"1\" class=\"dataframe\">\n",
              "  <thead>\n",
              "    <tr style=\"text-align: right;\">\n",
              "      <th></th>\n",
              "      <th>Hours</th>\n",
              "      <th>Predicted Marks</th>\n",
              "    </tr>\n",
              "  </thead>\n",
              "  <tbody>\n",
              "    <tr>\n",
              "      <th>0</th>\n",
              "      <td>1.5</td>\n",
              "      <td>16.844722</td>\n",
              "    </tr>\n",
              "    <tr>\n",
              "      <th>1</th>\n",
              "      <td>3.2</td>\n",
              "      <td>33.745575</td>\n",
              "    </tr>\n",
              "    <tr>\n",
              "      <th>2</th>\n",
              "      <td>7.4</td>\n",
              "      <td>75.500624</td>\n",
              "    </tr>\n",
              "    <tr>\n",
              "      <th>3</th>\n",
              "      <td>2.5</td>\n",
              "      <td>26.786400</td>\n",
              "    </tr>\n",
              "    <tr>\n",
              "      <th>4</th>\n",
              "      <td>5.9</td>\n",
              "      <td>60.588106</td>\n",
              "    </tr>\n",
              "    <tr>\n",
              "      <th>5</th>\n",
              "      <td>3.8</td>\n",
              "      <td>39.710582</td>\n",
              "    </tr>\n",
              "    <tr>\n",
              "      <th>6</th>\n",
              "      <td>1.9</td>\n",
              "      <td>20.821393</td>\n",
              "    </tr>\n",
              "  </tbody>\n",
              "</table>\n",
              "</div>"
            ],
            "text/plain": [
              "   Hours  Predicted Marks\n",
              "0    1.5        16.844722\n",
              "1    3.2        33.745575\n",
              "2    7.4        75.500624\n",
              "3    2.5        26.786400\n",
              "4    5.9        60.588106\n",
              "5    3.8        39.710582\n",
              "6    1.9        20.821393"
            ]
          },
          "metadata": {},
          "execution_count": 18
        }
      ]
    },
    {
      "cell_type": "code",
      "metadata": {
        "id": "xC6ZEbpOfOxK"
      },
      "source": [
        ""
      ],
      "execution_count": null,
      "outputs": []
    }
  ]
}